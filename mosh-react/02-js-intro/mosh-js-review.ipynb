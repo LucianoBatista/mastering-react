{
 "cells": [
  {
   "cell_type": "markdown",
   "id": "48dad856",
   "metadata": {},
   "source": [
    "# Arrow Functions"
   ]
  },
  {
   "cell_type": "code",
   "execution_count": 1,
   "id": "cda639c1",
   "metadata": {},
   "outputs": [],
   "source": [
    "const square = function(number) {\n",
    "    return number * number\n",
    "}"
   ]
  },
  {
   "cell_type": "code",
   "execution_count": 2,
   "id": "90b3e460",
   "metadata": {},
   "outputs": [
    {
     "data": {
      "text/plain": [
       "4"
      ]
     },
     "execution_count": 2,
     "metadata": {},
     "output_type": "execute_result"
    }
   ],
   "source": [
    "square(2)"
   ]
  },
  {
   "cell_type": "code",
   "execution_count": 3,
   "id": "5b1cbe1d",
   "metadata": {},
   "outputs": [],
   "source": [
    "const arrow_square = number => number*number;"
   ]
  },
  {
   "cell_type": "code",
   "execution_count": 5,
   "id": "0feab508",
   "metadata": {},
   "outputs": [
    {
     "data": {
      "text/plain": [
       "16"
      ]
     },
     "execution_count": 5,
     "metadata": {},
     "output_type": "execute_result"
    }
   ],
   "source": [
    "arrow_square(4)"
   ]
  },
  {
   "cell_type": "code",
   "execution_count": 6,
   "id": "3e3315e5",
   "metadata": {},
   "outputs": [],
   "source": [
    "const jobs = [\n",
    "    { id: 1, isActive: true },\n",
    "    { id: 2, isActive: true },\n",
    "    { id: 3, isActive: false },\n",
    "]"
   ]
  },
  {
   "cell_type": "code",
   "execution_count": 10,
   "id": "01ed977a",
   "metadata": {},
   "outputs": [],
   "source": [
    "const activeJobs = jobs.filter(job => job.isActive);"
   ]
  },
  {
   "cell_type": "code",
   "execution_count": 11,
   "id": "7636ccae",
   "metadata": {},
   "outputs": [
    {
     "data": {
      "text/plain": [
       "[ { id: 1, isActive: true }, { id: 2, isActive: true } ]"
      ]
     },
     "execution_count": 11,
     "metadata": {},
     "output_type": "execute_result"
    }
   ],
   "source": [
    "activeJobs"
   ]
  },
  {
   "cell_type": "markdown",
   "id": "855055a6",
   "metadata": {},
   "source": [
    "# Arrow Functions and This"
   ]
  },
  {
   "cell_type": "code",
   "execution_count": 17,
   "id": "a630f587",
   "metadata": {},
   "outputs": [],
   "source": [
    "const person2 = {\n",
    "    talk() {\n",
    "        setTimeout(function() {  // this is a global function, callback function\n",
    "            console.log(\"this\", this);\n",
    "        }, 1000)\n",
    "    }\n",
    "};"
   ]
  },
  {
   "cell_type": "code",
   "execution_count": 15,
   "id": "bfd02e23",
   "metadata": {},
   "outputs": [],
   "source": [
    "const person = {\n",
    "    talk() {\n",
    "        console.log(\"this\", this);\n",
    "    }\n",
    "};"
   ]
  },
  {
   "cell_type": "code",
   "execution_count": 16,
   "id": "750e309d",
   "metadata": {},
   "outputs": [
    {
     "name": "stdout",
     "output_type": "stream",
     "text": [
      "this { talk: [Function: talk] }\n"
     ]
    }
   ],
   "source": [
    "person.talk()"
   ]
  },
  {
   "cell_type": "code",
   "execution_count": 18,
   "id": "86aaba18",
   "metadata": {},
   "outputs": [
    {
     "name": "stdout",
     "output_type": "stream",
     "text": [
      "this Timeout {\n",
      "  _idleTimeout: 1000,\n",
      "  _idlePrev: null,\n",
      "  _idleNext: null,\n",
      "  _idleStart: 38628428,\n",
      "  _onTimeout: [Function (anonymous)],\n",
      "  _timerArgs: undefined,\n",
      "  _repeat: null,\n",
      "  _destroyed: false,\n",
      "  [Symbol(refed)]: true,\n",
      "  [Symbol(kHasPrimitive)]: false,\n",
      "  [Symbol(asyncId)]: 111,\n",
      "  [Symbol(triggerId)]: 108\n",
      "}\n"
     ]
    }
   ],
   "source": [
    "person2.talk()"
   ]
  },
  {
   "cell_type": "code",
   "execution_count": 19,
   "id": "9c67f689",
   "metadata": {},
   "outputs": [],
   "source": [
    "// how can we have a reference objective with this \n",
    "// inside a callback function\n",
    "const person3 = {\n",
    "    talk() {\n",
    "        setTimeout(() => {console.log(\"this\", this), 1000}) // this way we inhereted this from the context\n",
    "    }\n",
    "}"
   ]
  },
  {
   "cell_type": "code",
   "execution_count": 20,
   "id": "07db81ea",
   "metadata": {},
   "outputs": [
    {
     "name": "stdout",
     "output_type": "stream",
     "text": [
      "this { talk: [Function: talk] }\n"
     ]
    }
   ],
   "source": [
    "person3.talk()"
   ]
  },
  {
   "cell_type": "markdown",
   "id": "fddc813b",
   "metadata": {},
   "source": [
    "# Arrow.map Method"
   ]
  },
  {
   "cell_type": "code",
   "execution_count": 23,
   "id": "2effad79",
   "metadata": {},
   "outputs": [
    {
     "data": {
      "text/plain": [
       "[ '<li>${item}</li>', '<li>${item}</li>', '<li>${item}</li>' ]"
      ]
     },
     "execution_count": 23,
     "metadata": {},
     "output_type": "execute_result"
    }
   ],
   "source": [
    "const colors = [\"red\", \"green\", \"blue\"];"
   ]
  },
  {
   "cell_type": "code",
   "execution_count": 26,
   "id": "3c921c73",
   "metadata": {},
   "outputs": [],
   "source": [
    "const items = colors.map(color => `<li>${color}</li>`)"
   ]
  },
  {
   "cell_type": "code",
   "execution_count": 27,
   "id": "00d1d7cf",
   "metadata": {},
   "outputs": [
    {
     "data": {
      "text/plain": [
       "[ '<li>red</li>', '<li>green</li>', '<li>blue</li>' ]"
      ]
     },
     "execution_count": 27,
     "metadata": {},
     "output_type": "execute_result"
    }
   ],
   "source": [
    "items"
   ]
  },
  {
   "cell_type": "markdown",
   "id": "3c7a5b9a",
   "metadata": {},
   "source": [
    " # Objective Destructuring"
   ]
  },
  {
   "cell_type": "code",
   "execution_count": 28,
   "id": "ba65b08e",
   "metadata": {},
   "outputs": [],
   "source": [
    "const address = {\n",
    "    street: '',\n",
    "    city: '',\n",
    "    country: ''\n",
    "};"
   ]
  },
  {
   "cell_type": "code",
   "execution_count": 29,
   "id": "e4cc5418",
   "metadata": {},
   "outputs": [],
   "source": [
    "const { street, city, country } = address;"
   ]
  },
  {
   "cell_type": "code",
   "execution_count": 31,
   "id": "8cd4963f",
   "metadata": {},
   "outputs": [
    {
     "data": {
      "text/plain": [
       "''"
      ]
     },
     "execution_count": 31,
     "metadata": {},
     "output_type": "execute_result"
    }
   ],
   "source": [
    "city"
   ]
  },
  {
   "cell_type": "code",
   "execution_count": 32,
   "id": "52a35f7f",
   "metadata": {},
   "outputs": [],
   "source": [
    "const { street: st, city: ct, country: cr} = address"
   ]
  },
  {
   "cell_type": "code",
   "execution_count": 33,
   "id": "e6f2a477",
   "metadata": {},
   "outputs": [
    {
     "data": {
      "text/plain": [
       "''"
      ]
     },
     "execution_count": 33,
     "metadata": {},
     "output_type": "execute_result"
    }
   ],
   "source": [
    "st"
   ]
  },
  {
   "cell_type": "markdown",
   "id": "5a513b85",
   "metadata": {},
   "source": [
    "# Spread Operators"
   ]
  },
  {
   "cell_type": "code",
   "execution_count": 34,
   "id": "124e37fe",
   "metadata": {},
   "outputs": [],
   "source": [
    "const first = [1, 2, 3];\n",
    "const second = [4, 5, 6];"
   ]
  },
  {
   "cell_type": "code",
   "execution_count": 38,
   "id": "121de083",
   "metadata": {},
   "outputs": [],
   "source": [
    "const combined = [...first, ...second];"
   ]
  },
  {
   "cell_type": "code",
   "execution_count": 39,
   "id": "0b154a65",
   "metadata": {},
   "outputs": [
    {
     "data": {
      "text/plain": [
       "[ 1, 2, 3, 4, 5, 6 ]"
      ]
     },
     "execution_count": 39,
     "metadata": {},
     "output_type": "execute_result"
    }
   ],
   "source": [
    "combined"
   ]
  },
  {
   "cell_type": "code",
   "execution_count": 40,
   "id": "4d75f8a2",
   "metadata": {},
   "outputs": [],
   "source": [
    "const names = { name: \"Luba\" };\n",
    "const sec_names = { job: \"Data Scientist\" };"
   ]
  },
  {
   "cell_type": "code",
   "execution_count": 42,
   "id": "d8bd92a2",
   "metadata": {},
   "outputs": [
    {
     "ename": "SyntaxError",
     "evalue": "Unexpected token '...'",
     "output_type": "error",
     "traceback": [
      "evalmachine.<anonymous>:1",
      "{...names};",
      " ^^^",
      "",
      "SyntaxError: Unexpected token '...'",
      "    at new Script (node:vm:100:7)",
      "    at createScript (node:vm:257:10)",
      "    at Object.runInThisContext (node:vm:305:10)",
      "    at run ([eval]:1054:15)",
      "    at onRunRequest ([eval]:888:18)",
      "    at onMessage ([eval]:848:13)",
      "    at process.emit (node:events:390:28)",
      "    at emit (node:internal/child_process:917:12)",
      "    at processTicksAndRejections (node:internal/process/task_queues:84:21)"
     ]
    }
   ],
   "source": [
    "{...names}"
   ]
  },
  {
   "cell_type": "code",
   "execution_count": 43,
   "id": "31f1feb6",
   "metadata": {},
   "outputs": [],
   "source": [
    "const comb_objs = {...names, ...sec_names, location: \"Brazil\"}"
   ]
  },
  {
   "cell_type": "code",
   "execution_count": 44,
   "id": "65b96624",
   "metadata": {},
   "outputs": [
    {
     "data": {
      "text/plain": [
       "{ name: 'Luba', job: 'Data Scientist', location: 'Brazil' }"
      ]
     },
     "execution_count": 44,
     "metadata": {},
     "output_type": "execute_result"
    }
   ],
   "source": [
    "comb_objs"
   ]
  },
  {
   "cell_type": "markdown",
   "id": "66be7983",
   "metadata": {},
   "source": [
    "# Classes"
   ]
  },
  {
   "cell_type": "code",
   "execution_count": 45,
   "id": "c157322d",
   "metadata": {},
   "outputs": [],
   "source": [
    "class Person {\n",
    "    \n",
    "    constructor(name) {\n",
    "        this.name = name;\n",
    "    }\n",
    "    \n",
    "    walk() {\n",
    "        console.log(\"walk\");\n",
    "    }\n",
    "}"
   ]
  },
  {
   "cell_type": "code",
   "execution_count": 46,
   "id": "a76b8b76",
   "metadata": {},
   "outputs": [],
   "source": [
    "const persona = new Person(\"Luba\");"
   ]
  },
  {
   "cell_type": "code",
   "execution_count": 47,
   "id": "de83d859",
   "metadata": {},
   "outputs": [
    {
     "data": {
      "text/plain": [
       "'Luba'"
      ]
     },
     "execution_count": 47,
     "metadata": {},
     "output_type": "execute_result"
    }
   ],
   "source": [
    "persona.name  // property"
   ]
  },
  {
   "cell_type": "code",
   "execution_count": 49,
   "id": "28c22437",
   "metadata": {},
   "outputs": [
    {
     "name": "stdout",
     "output_type": "stream",
     "text": [
      "walk\n"
     ]
    }
   ],
   "source": [
    "persona.walk()  // method"
   ]
  },
  {
   "cell_type": "code",
   "execution_count": 50,
   "id": "5013f4a1",
   "metadata": {},
   "outputs": [],
   "source": [
    "class Teacher extends Person {\n",
    "    \n",
    "    constructor(name, degree) {\n",
    "        super(name);\n",
    "        this.degree = degree;\n",
    "    }\n",
    "    \n",
    "    teach() {\n",
    "        console.log(\"teach\");\n",
    "    }\n",
    "}"
   ]
  },
  {
   "cell_type": "code",
   "execution_count": 51,
   "id": "05f3ae72",
   "metadata": {},
   "outputs": [],
   "source": [
    "const teacher = new Teacher('Luba', 'Especialist')"
   ]
  },
  {
   "cell_type": "code",
   "execution_count": 52,
   "id": "1caa42bc",
   "metadata": {},
   "outputs": [
    {
     "data": {
      "text/plain": [
       "'Especialist'"
      ]
     },
     "execution_count": 52,
     "metadata": {},
     "output_type": "execute_result"
    }
   ],
   "source": [
    "teacher.degree"
   ]
  },
  {
   "cell_type": "code",
   "execution_count": 53,
   "id": "d42e8832",
   "metadata": {},
   "outputs": [
    {
     "name": "stdout",
     "output_type": "stream",
     "text": [
      "walk\n"
     ]
    }
   ],
   "source": [
    "teacher.walk()"
   ]
  },
  {
   "cell_type": "markdown",
   "id": "7e9d0b90",
   "metadata": {},
   "source": [
    "# Modules, Named and Defaults Exports"
   ]
  },
  {
   "cell_type": "markdown",
   "id": "aaa05625",
   "metadata": {},
   "source": [
    "Seperate in modules (files), and put the **export** on the start of the class:\n",
    "\n",
    "- `export class Person ...`\n",
    "\n",
    "There is also a default export.\n",
    "\n",
    "- `export default class Person ...`\n",
    "\n",
    "We also can export functions or others objects (named exports).\n",
    "\n",
    "When we have default exports, we can import the classes like this:\n",
    "\n",
    "- `import Person from \"./teacher\"`"
   ]
  },
  {
   "cell_type": "code",
   "execution_count": null,
   "id": "ff36008c",
   "metadata": {},
   "outputs": [],
   "source": []
  },
  {
   "cell_type": "code",
   "execution_count": null,
   "id": "9e241c24",
   "metadata": {},
   "outputs": [],
   "source": []
  },
  {
   "cell_type": "code",
   "execution_count": null,
   "id": "5cc49f6f",
   "metadata": {},
   "outputs": [],
   "source": []
  },
  {
   "cell_type": "code",
   "execution_count": null,
   "id": "e3c5236b",
   "metadata": {},
   "outputs": [],
   "source": []
  },
  {
   "cell_type": "code",
   "execution_count": null,
   "id": "ab19c349",
   "metadata": {},
   "outputs": [],
   "source": []
  }
 ],
 "metadata": {
  "kernelspec": {
   "display_name": "JavaScript (Node.js)",
   "language": "javascript",
   "name": "javascript"
  },
  "language_info": {
   "file_extension": ".js",
   "mimetype": "application/javascript",
   "name": "javascript",
   "version": "16.13.0"
  }
 },
 "nbformat": 4,
 "nbformat_minor": 5
}
